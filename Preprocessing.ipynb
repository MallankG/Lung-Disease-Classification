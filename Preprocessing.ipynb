{
 "cells": [
  {
   "cell_type": "code",
   "execution_count": 1,
   "id": "8a22742f",
   "metadata": {},
   "outputs": [
    {
     "name": "stderr",
     "output_type": "stream",
     "text": [
      "c:\\Users\\Hp\\AppData\\Local\\Programs\\Python\\Python312\\Lib\\site-packages\\torch\\utils\\_pytree.py:185: FutureWarning: optree is installed but the version is too old to support PyTorch Dynamo in C++ pytree. C++ pytree support is disabled. Please consider upgrading optree using `python3 -m pip install --upgrade 'optree>=0.13.0'`.\n",
      "  warnings.warn(\n"
     ]
    }
   ],
   "source": [
    "import os\n",
    "import shutil\n",
    "from torchvision import datasets, transforms\n",
    "from torch.utils.data import random_split\n",
    "from torchvision.datasets import ImageFolder\n",
    "from torchvision.utils import save_image\n",
    "from tqdm import tqdm\n",
    "import torch"
   ]
  },
  {
   "cell_type": "code",
   "execution_count": 2,
   "id": "4bb296fb",
   "metadata": {},
   "outputs": [],
   "source": [
    "import os\n",
    "from torchvision import transforms\n",
    "\n",
    "# Paths and config\n",
    "source_dir = 'Chest_X-Ray_Image'\n",
    "target_dir = 'Dataset-1'\n",
    "\n",
    "# Split ratios\n",
    "train_ratio = 0.7\n",
    "val_ratio = 0.15\n",
    "test_ratio = 0.15\n",
    "batch_size = 1  # For saving individual images\n",
    "num_workers = 2\n",
    "\n",
    "# Transforms    \n",
    "train_transform = transforms.Compose([\n",
    "    transforms.Resize((224, 224)),\n",
    "    transforms.RandomHorizontalFlip(),\n",
    "    transforms.RandomRotation(10),\n",
    "    transforms.ToTensor()\n",
    "])\n",
    "\n",
    "val_transform = transforms.Compose([\n",
    "    transforms.Resize((224, 224)),\n",
    "    transforms.ToTensor()\n",
    "])\n",
    "\n",
    "test_transform = transforms.Compose([\n",
    "    transforms.Resize((224, 224)),\n",
    "    transforms.ToTensor()\n",
    "])\n"
   ]
  },
  {
   "cell_type": "code",
   "execution_count": 3,
   "id": "a0991afe",
   "metadata": {},
   "outputs": [],
   "source": [
    "full_dataset = ImageFolder(root=source_dir, transform=train_transform)\n",
    "class_names = full_dataset.classes\n",
    "\n",
    "# Calculate sizes\n",
    "total_size = len(full_dataset)\n",
    "train_size = int(train_ratio * total_size)\n",
    "val_size = int(val_ratio * total_size)\n",
    "test_size = total_size - train_size - val_size  # Remaining samples\n",
    "\n",
    "# Perform split\n",
    "train_dataset, val_dataset, test_dataset = random_split(\n",
    "    full_dataset, [train_size, val_size, test_size]\n",
    ")\n",
    "\n",
    "# Assign specific transforms for each split\n",
    "train_dataset.dataset.transform = train_transform\n",
    "val_dataset.dataset.transform = val_transform\n",
    "test_dataset.dataset.transform = test_transform"
   ]
  },
  {
   "cell_type": "code",
   "execution_count": 4,
   "id": "3e2909bf",
   "metadata": {},
   "outputs": [],
   "source": [
    "def save_images(dataset, split_name):\n",
    "    loader = torch.utils.data.DataLoader(dataset, batch_size=batch_size, shuffle=False, num_workers=num_workers)\n",
    "    \n",
    "    for i, (img, label) in enumerate(tqdm(loader, desc=f\"Saving {split_name} data\")):\n",
    "        class_name = class_names[label.item()]\n",
    "        save_dir = os.path.join(target_dir, split_name, class_name)\n",
    "        os.makedirs(save_dir, exist_ok=True)\n",
    "        save_path = os.path.join(save_dir, f\"{split_name}_{i}.png\")\n",
    "        save_image(img, save_path)"
   ]
  },
  {
   "cell_type": "code",
   "execution_count": 5,
   "id": "5f9de829",
   "metadata": {},
   "outputs": [
    {
     "name": "stderr",
     "output_type": "stream",
     "text": [
      "Saving train data: 100%|██████████| 3045/3045 [03:07<00:00, 16.25it/s]\n",
      "Saving val data: 100%|██████████| 652/652 [00:50<00:00, 12.79it/s]\n",
      "Saving test data: 100%|██████████| 653/653 [00:53<00:00, 12.30it/s]\n"
     ]
    }
   ],
   "source": [
    "save_images(train_dataset, \"train\")\n",
    "save_images(val_dataset, \"val\")\n",
    "save_images(test_dataset, \"test\")"
   ]
  },
  {
   "cell_type": "code",
   "execution_count": 19,
   "id": "dbd366bb",
   "metadata": {},
   "outputs": [],
   "source": [
    "import os\n",
    "from torchvision import transforms\n",
    "\n",
    "# Paths and config\n",
    "source_dir = 'Data'\n",
    "target_dir = 'Dataset-2'\n",
    "\n",
    "batch_size = 1  # For saving individual images\n",
    "num_workers = 2\n",
    "\n",
    "# Transforms    \n",
    "train_transform = transforms.Compose([\n",
    "    transforms.Resize((224, 224)),\n",
    "    transforms.RandomHorizontalFlip(),\n",
    "    transforms.RandomRotation(10),\n",
    "    transforms.ToTensor()\n",
    "])\n",
    "\n",
    "val_transform = transforms.Compose([\n",
    "    transforms.Resize((224, 224)),\n",
    "    transforms.ToTensor()\n",
    "])\n",
    "\n",
    "test_transform = transforms.Compose([\n",
    "    transforms.Resize((224, 224)),\n",
    "    transforms.ToTensor()\n",
    "])\n"
   ]
  },
  {
   "cell_type": "code",
   "execution_count": 20,
   "id": "76fc67c3",
   "metadata": {},
   "outputs": [],
   "source": [
    "# Load datasets\n",
    "full_train_dataset = ImageFolder(root=os.path.join(source_dir, 'train'), transform=train_transform)\n",
    "test_dataset = ImageFolder(root=os.path.join(source_dir, 'test'), transform=test_transform)\n",
    "\n",
    "# Split sizes\n",
    "train_ratio = 0.85  # 85% for training, 15% for validation\n",
    "train_size = int(train_ratio * len(full_train_dataset))\n",
    "val_size = len(full_train_dataset) - train_size\n",
    "\n",
    "# Split the dataset\n",
    "train_dataset, val_dataset = random_split(full_train_dataset, [train_size, val_size])\n",
    "\n",
    "# Assign transforms for each split\n",
    "train_dataset.dataset.transform = train_transform\n",
    "val_dataset.dataset.transform = val_transform\n",
    "test_dataset.transform = test_transform"
   ]
  },
  {
   "cell_type": "code",
   "execution_count": 21,
   "id": "bc1b230c",
   "metadata": {},
   "outputs": [],
   "source": [
    "def save_images(dataset, split_name):\n",
    "    loader = torch.utils.data.DataLoader(dataset, batch_size=batch_size, shuffle=False, num_workers=num_workers)\n",
    "    \n",
    "    for i, (img, label) in enumerate(tqdm(loader, desc=f\"Saving {split_name} data\")):\n",
    "        class_name = class_names[label.item()]\n",
    "        save_dir = os.path.join(target_dir, split_name, class_name)\n",
    "        os.makedirs(save_dir, exist_ok=True)\n",
    "        save_path = os.path.join(save_dir, f\"{split_name}_{i}.png\")\n",
    "        save_image(img, save_path)"
   ]
  },
  {
   "cell_type": "code",
   "execution_count": 22,
   "id": "434a8f8c",
   "metadata": {},
   "outputs": [
    {
     "name": "stderr",
     "output_type": "stream",
     "text": [
      "Saving train data: 100%|██████████| 4372/4372 [04:15<00:00, 17.09it/s]\n",
      "Saving val data: 100%|██████████| 772/772 [00:51<00:00, 15.07it/s]\n",
      "Saving test data: 100%|██████████| 1288/1288 [00:59<00:00, 21.72it/s]\n"
     ]
    }
   ],
   "source": [
    "save_images(train_dataset, \"train\")\n",
    "save_images(val_dataset, \"val\")\n",
    "save_images(test_dataset, \"test\")"
   ]
  }
 ],
 "metadata": {
  "kernelspec": {
   "display_name": "Python 3",
   "language": "python",
   "name": "python3"
  },
  "language_info": {
   "codemirror_mode": {
    "name": "ipython",
    "version": 3
   },
   "file_extension": ".py",
   "mimetype": "text/x-python",
   "name": "python",
   "nbconvert_exporter": "python",
   "pygments_lexer": "ipython3",
   "version": "3.12.1"
  }
 },
 "nbformat": 4,
 "nbformat_minor": 5
}
